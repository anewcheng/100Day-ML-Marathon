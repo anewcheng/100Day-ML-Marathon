{
  "cells": [
    {
      "cell_type": "markdown",
      "metadata": {
        "id": "view-in-github",
        "colab_type": "text"
      },
      "source": [
        "<a href=\"https://colab.research.google.com/github/anewcheng/100Day-ML-Marathon/blob/master/W01/demo01-1.ipynb\" target=\"_parent\"><img src=\"https://colab.research.google.com/assets/colab-badge.svg\" alt=\"Open In Colab\"/></a>"
      ]
    },
    {
      "cell_type": "markdown",
      "metadata": {
        "id": "yB7Q3i-h-Jom"
      },
      "source": [
        "# 基本語法練習"
      ]
    },
    {
      "cell_type": "markdown",
      "metadata": {
        "id": "S480Q6bs-Joq"
      },
      "source": [
        "### Python 基本規則: 以縮排來區分程式區塊，並儘量使用「空白」\n",
        "[參考](https://python.swaroopch.com/basics.html)"
      ]
    },
    {
      "cell_type": "code",
      "execution_count": 1,
      "metadata": {
        "colab": {
          "base_uri": "https://localhost:8080/"
        },
        "id": "Pr6SvS18-Jor",
        "outputId": "4ab3ea68-a855-41f0-eceb-1134040101e5"
      },
      "outputs": [
        {
          "output_type": "stream",
          "name": "stdout",
          "text": [
            "0 * 0 = 0\n",
            "1 * 1 = 1\n",
            "2 * 2 = 4\n",
            "3 * 3 = 9\n",
            "4 * 4 = 16\n"
          ]
        }
      ],
      "source": [
        "for i in range(5):\n",
        "    print(i, '*', i, '=', i*i)"
      ]
    },
    {
      "cell_type": "markdown",
      "metadata": {
        "id": "2K3z9pwm-Jos"
      },
      "source": [
        "- 註解符號: #"
      ]
    },
    {
      "cell_type": "code",
      "execution_count": null,
      "metadata": {
        "id": "FAXpp56x-Jot"
      },
      "outputs": [],
      "source": [
        "# 這一行是註解\n",
        "# print('hi~ A')\n",
        "print('hi~ B')"
      ]
    },
    {
      "cell_type": "markdown",
      "metadata": {
        "id": "tWJwJmMm-Jot"
      },
      "source": [
        "### 運算符號\n",
        "[參考](https://python.swaroopch.com/op_exp.html)"
      ]
    },
    {
      "cell_type": "code",
      "execution_count": 3,
      "metadata": {
        "colab": {
          "base_uri": "https://localhost:8080/"
        },
        "id": "z1_hSDrk-Jou",
        "outputId": "7a7bc459-6031-4a3d-dfba-4d187a36a5f3"
      },
      "outputs": [
        {
          "output_type": "execute_result",
          "data": {
            "text/plain": [
              "15"
            ]
          },
          "metadata": {},
          "execution_count": 3
        }
      ],
      "source": [
        "# 加法\n",
        "3+12"
      ]
    },
    {
      "cell_type": "code",
      "execution_count": 4,
      "metadata": {
        "colab": {
          "base_uri": "https://localhost:8080/"
        },
        "id": "Pumszq6o-Jov",
        "outputId": "0b054b19-5a99-4665-d160-188338a3967e"
      },
      "outputs": [
        {
          "output_type": "execute_result",
          "data": {
            "text/plain": [
              "41976"
            ]
          },
          "metadata": {},
          "execution_count": 4
        }
      ],
      "source": [
        "# 減法\n",
        "54321 - 12345"
      ]
    },
    {
      "cell_type": "code",
      "execution_count": 5,
      "metadata": {
        "colab": {
          "base_uri": "https://localhost:8080/"
        },
        "id": "0istYmpb-Jow",
        "outputId": "b09d8064-f697-4db7-91cd-625d237cc1c6"
      },
      "outputs": [
        {
          "output_type": "execute_result",
          "data": {
            "text/plain": [
              "39483"
            ]
          },
          "metadata": {},
          "execution_count": 5
        }
      ],
      "source": [
        "# 乘法\n",
        "123*321"
      ]
    },
    {
      "cell_type": "code",
      "execution_count": 6,
      "metadata": {
        "colab": {
          "base_uri": "https://localhost:8080/"
        },
        "id": "QtWuNVVS-Jox",
        "outputId": "6a7205a2-13f2-4175-ff1b-ca60393f7abf"
      },
      "outputs": [
        {
          "output_type": "execute_result",
          "data": {
            "text/plain": [
              "69.0"
            ]
          },
          "metadata": {},
          "execution_count": 6
        }
      ],
      "source": [
        "# 除法\n",
        "345/5"
      ]
    },
    {
      "cell_type": "code",
      "execution_count": 7,
      "metadata": {
        "colab": {
          "base_uri": "https://localhost:8080/"
        },
        "id": "RugSxEsm-Joy",
        "outputId": "269afb24-ec83-483c-85b7-1d4e5f49ab30"
      },
      "outputs": [
        {
          "output_type": "execute_result",
          "data": {
            "text/plain": [
              "9"
            ]
          },
          "metadata": {},
          "execution_count": 7
        }
      ],
      "source": [
        "# power\n",
        "3**2"
      ]
    },
    {
      "cell_type": "code",
      "execution_count": 8,
      "metadata": {
        "colab": {
          "base_uri": "https://localhost:8080/"
        },
        "id": "cMYW8J0Y-Joy",
        "outputId": "6b3c6d8e-2110-4ce7-8eb6-f068d8d431f8"
      },
      "outputs": [
        {
          "output_type": "execute_result",
          "data": {
            "text/plain": [
              "1024"
            ]
          },
          "metadata": {},
          "execution_count": 8
        }
      ],
      "source": [
        "2**10"
      ]
    },
    {
      "cell_type": "code",
      "execution_count": 9,
      "metadata": {
        "colab": {
          "base_uri": "https://localhost:8080/"
        },
        "id": "mAcJa0HV-Joz",
        "outputId": "27676e31-2112-4cba-c9ff-a4e705b88f64"
      },
      "outputs": [
        {
          "output_type": "execute_result",
          "data": {
            "text/plain": [
              "24"
            ]
          },
          "metadata": {},
          "execution_count": 9
        }
      ],
      "source": [
        "# 整數除法\n",
        "123//5"
      ]
    },
    {
      "cell_type": "code",
      "execution_count": 10,
      "metadata": {
        "colab": {
          "base_uri": "https://localhost:8080/"
        },
        "id": "4q-zEAgM-Joz",
        "outputId": "707518d1-8f20-42a0-e968-8509acaa6351"
      },
      "outputs": [
        {
          "output_type": "execute_result",
          "data": {
            "text/plain": [
              "24.6"
            ]
          },
          "metadata": {},
          "execution_count": 10
        }
      ],
      "source": [
        "123/5"
      ]
    },
    {
      "cell_type": "code",
      "execution_count": 11,
      "metadata": {
        "colab": {
          "base_uri": "https://localhost:8080/"
        },
        "id": "zus67b20-Joz",
        "outputId": "9e7b48b9-25d3-4ea5-bb5a-cdb325ec4911"
      },
      "outputs": [
        {
          "output_type": "execute_result",
          "data": {
            "text/plain": [
              "3"
            ]
          },
          "metadata": {},
          "execution_count": 11
        }
      ],
      "source": [
        "# 取餘數\n",
        "123%5"
      ]
    },
    {
      "cell_type": "markdown",
      "metadata": {
        "id": "GhNAi5EW-Joz"
      },
      "source": [
        "### 變數"
      ]
    },
    {
      "cell_type": "markdown",
      "metadata": {
        "id": "l2EObp8J-Jo0"
      },
      "source": [
        "[參考](https://python.swaroopch.com/basics.html)"
      ]
    },
    {
      "cell_type": "markdown",
      "metadata": {
        "id": "9y3n0_DV-Jo0"
      },
      "source": [
        "- 數字: integers and floats"
      ]
    },
    {
      "cell_type": "code",
      "execution_count": 12,
      "metadata": {
        "id": "TiY10POH-Jo0"
      },
      "outputs": [],
      "source": [
        "num_int = 2*3"
      ]
    },
    {
      "cell_type": "code",
      "execution_count": 13,
      "metadata": {
        "colab": {
          "base_uri": "https://localhost:8080/"
        },
        "id": "ME1F_xS1-Jo1",
        "outputId": "f61fee39-2536-42de-be69-95e9487c2497"
      },
      "outputs": [
        {
          "output_type": "stream",
          "name": "stdout",
          "text": [
            "6\n"
          ]
        }
      ],
      "source": [
        "print(num_int)"
      ]
    },
    {
      "cell_type": "code",
      "execution_count": 14,
      "metadata": {
        "id": "NuubJoWN-Jo1"
      },
      "outputs": [],
      "source": [
        "# python不用像 C語言那樣，有限定 int4, int8, int16, int32, int64...等有限的表示長度\n",
        "num_int = 123456789*987654321"
      ]
    },
    {
      "cell_type": "code",
      "execution_count": 15,
      "metadata": {
        "colab": {
          "base_uri": "https://localhost:8080/"
        },
        "id": "Xd62Rl7e-Jo1",
        "outputId": "bf877c7c-9f8c-42fe-8141-6e396f0f1654"
      },
      "outputs": [
        {
          "output_type": "stream",
          "name": "stdout",
          "text": [
            "121932631112635269\n"
          ]
        }
      ],
      "source": [
        "print(num_int)"
      ]
    },
    {
      "cell_type": "code",
      "execution_count": 16,
      "metadata": {
        "id": "Lb3jolmG-Jo1"
      },
      "outputs": [],
      "source": [
        "num_float = 1.23*4.56"
      ]
    },
    {
      "cell_type": "code",
      "execution_count": 17,
      "metadata": {
        "colab": {
          "base_uri": "https://localhost:8080/"
        },
        "id": "P_K6H_c6-Jo2",
        "outputId": "0fd54b02-4d46-4c68-eda8-2d2146595e29"
      },
      "outputs": [
        {
          "output_type": "stream",
          "name": "stdout",
          "text": [
            "5.6088\n"
          ]
        }
      ],
      "source": [
        "print(num_float)"
      ]
    },
    {
      "cell_type": "markdown",
      "metadata": {
        "id": "BlRc438L-Jo2"
      },
      "source": [
        "### 變數進階"
      ]
    },
    {
      "cell_type": "code",
      "execution_count": 18,
      "metadata": {
        "colab": {
          "base_uri": "https://localhost:8080/"
        },
        "id": "bUQrtM5H-Jo2",
        "outputId": "1f3814c0-17c9-47e0-b356-55e060142884"
      },
      "outputs": [
        {
          "output_type": "stream",
          "name": "stdout",
          "text": [
            "6.838957413845486e+17\n"
          ]
        }
      ],
      "source": [
        "num_float = num_float * num_int\n",
        "print(num_float)"
      ]
    },
    {
      "cell_type": "code",
      "execution_count": 19,
      "metadata": {
        "colab": {
          "base_uri": "https://localhost:8080/"
        },
        "id": "Qa0L757q-Jo2",
        "outputId": "c4f78378-bfb7-475c-8fe2-b3439c8c7666"
      },
      "outputs": [
        {
          "output_type": "stream",
          "name": "stdout",
          "text": [
            "30\n"
          ]
        }
      ],
      "source": [
        "num_int = 10\n",
        "num_int = num_int + 20\n",
        "print(num_int)"
      ]
    },
    {
      "cell_type": "code",
      "execution_count": 21,
      "metadata": {
        "colab": {
          "base_uri": "https://localhost:8080/"
        },
        "id": "R0iZdLp4-Jo2",
        "outputId": "b38b47ce-7220-444d-89a9-81ef75a9edb2"
      },
      "outputs": [
        {
          "output_type": "stream",
          "name": "stdout",
          "text": [
            "130\n"
          ]
        }
      ],
      "source": [
        "num_int += 50\n",
        "print(num_int)"
      ]
    },
    {
      "cell_type": "markdown",
      "metadata": {
        "id": "wqazfvhB-Jo3"
      },
      "source": [
        "### 字串"
      ]
    },
    {
      "cell_type": "code",
      "execution_count": 22,
      "metadata": {
        "colab": {
          "base_uri": "https://localhost:8080/"
        },
        "id": "N5UBiyMm-Jo3",
        "outputId": "9c18cf8a-39f4-4570-aceb-bae6809a7afd"
      },
      "outputs": [
        {
          "output_type": "stream",
          "name": "stdout",
          "text": [
            "hello, i am jack\n"
          ]
        }
      ],
      "source": [
        "str1 = 'hello, i am jack'\n",
        "print(str1)"
      ]
    },
    {
      "cell_type": "code",
      "execution_count": 23,
      "metadata": {
        "colab": {
          "base_uri": "https://localhost:8080/",
          "height": 36
        },
        "id": "sVidxPEa-Jo3",
        "outputId": "409dc63f-36b5-46af-bd2f-67b952ea273f"
      },
      "outputs": [
        {
          "output_type": "execute_result",
          "data": {
            "text/plain": [
              "'hello, i am jackhello world'"
            ],
            "application/vnd.google.colaboratory.intrinsic+json": {
              "type": "string"
            }
          },
          "metadata": {},
          "execution_count": 23
        }
      ],
      "source": [
        "str2 = 'hello world'\n",
        "str1 + str2"
      ]
    },
    {
      "cell_type": "code",
      "execution_count": 30,
      "metadata": {
        "colab": {
          "base_uri": "https://localhost:8080/"
        },
        "id": "9cAxwBLt-Jo3",
        "outputId": "75916aae-bc26-44f4-9423-ea43e0c9a1f4"
      },
      "outputs": [
        {
          "output_type": "stream",
          "name": "stdout",
          "text": [
            "number int is 130; number float is 6.838957413845486e+17\n"
          ]
        }
      ],
      "source": [
        "str3 = 'number int is %s; number float is %s' %(num_int, num_float)\n",
        "print(str3)"
      ]
    },
    {
      "cell_type": "code",
      "execution_count": 37,
      "metadata": {
        "colab": {
          "base_uri": "https://localhost:8080/"
        },
        "id": "5ngamZaH-Jo3",
        "outputId": "8122d183-70c4-4ffb-c5ae-2b57832d2b28"
      },
      "outputs": [
        {
          "output_type": "stream",
          "name": "stdout",
          "text": [
            "number int is 00130; number float is 683895741384548608.000\n"
          ]
        }
      ],
      "source": [
        "# 進一步對數字格式化\n",
        "str3 = 'number int is %05d; number float is %.3f' %(num_int, num_float)\n",
        "print(str3)"
      ]
    },
    {
      "cell_type": "code",
      "execution_count": 38,
      "metadata": {
        "colab": {
          "base_uri": "https://localhost:8080/"
        },
        "id": "J60g95CY-Jo4",
        "outputId": "a53915ea-0d41-47fc-fa69-79592e1284f8"
      },
      "outputs": [
        {
          "output_type": "stream",
          "name": "stdout",
          "text": [
            "num1 = 15, num2 = 1.234\n"
          ]
        }
      ],
      "source": [
        "# Python3支援的格式化寫法\n",
        "num1 = 15\n",
        "num2 = 1.234\n",
        "str4 = f\"num1 = {num1}, num2 = {num2}\"\n",
        "print(str4)"
      ]
    },
    {
      "cell_type": "markdown",
      "metadata": {
        "id": "5OxiSt5d-Jo4"
      },
      "source": [
        "### 判斷式"
      ]
    },
    {
      "cell_type": "markdown",
      "metadata": {
        "id": "ciW9pIv6-Jo4"
      },
      "source": [
        "- if"
      ]
    },
    {
      "cell_type": "code",
      "execution_count": 39,
      "metadata": {
        "colab": {
          "base_uri": "https://localhost:8080/"
        },
        "id": "7y_gKPtD-Jo4",
        "outputId": "977e578e-6576-4a20-869b-7cda9b8e99b3"
      },
      "outputs": [
        {
          "output_type": "stream",
          "name": "stdout",
          "text": [
            "less\n"
          ]
        }
      ],
      "source": [
        "n = 6\n",
        "m = 10\n",
        "if n>m:\n",
        "    print('great')\n",
        "else:\n",
        "    print('less')"
      ]
    },
    {
      "cell_type": "markdown",
      "metadata": {
        "id": "YH87j8ds-Jo4"
      },
      "source": [
        "- 這個範例有陷井，請改一下n的值，並把他修改成正確的值"
      ]
    },
    {
      "cell_type": "code",
      "execution_count": 40,
      "metadata": {
        "colab": {
          "base_uri": "https://localhost:8080/"
        },
        "id": "RvQTdzAU-Jo5",
        "outputId": "3ed9fd0d-fcad-435d-d1cf-2661537673c0"
      },
      "outputs": [
        {
          "output_type": "stream",
          "name": "stdout",
          "text": [
            "你不及格\n"
          ]
        }
      ],
      "source": [
        "n=10\n",
        "if n<60:\n",
        "    print('你不及格')\n",
        "elif n>60:\n",
        "    print('低空飛過，再加油')\n",
        "elif n>70:\n",
        "    print('很不錯喔')\n",
        "else:\n",
        "    print('你太厲害了!')"
      ]
    },
    {
      "cell_type": "markdown",
      "metadata": {
        "id": "2cy8e6jr-Jo5"
      },
      "source": [
        "### 迴圈"
      ]
    },
    {
      "cell_type": "markdown",
      "metadata": {
        "id": "v4svN__7-Jo5"
      },
      "source": [
        "- for"
      ]
    },
    {
      "cell_type": "code",
      "execution_count": 41,
      "metadata": {
        "colab": {
          "base_uri": "https://localhost:8080/"
        },
        "id": "hcUn6qFm-Jo5",
        "outputId": "a027a99e-fbeb-479b-d828-ef238b8cfe26"
      },
      "outputs": [
        {
          "output_type": "stream",
          "name": "stdout",
          "text": [
            "1 * 1 = 1\n",
            "2 * 2 = 4\n",
            "3 * 3 = 9\n",
            "4 * 4 = 16\n"
          ]
        }
      ],
      "source": [
        "for i in range(1, 5):\n",
        "    print(i, '*', i, '=', i*i)"
      ]
    },
    {
      "cell_type": "markdown",
      "metadata": {
        "id": "i1OUcjnJ-Jo5"
      },
      "source": [
        "- while"
      ]
    },
    {
      "cell_type": "code",
      "execution_count": 42,
      "metadata": {
        "colab": {
          "base_uri": "https://localhost:8080/"
        },
        "id": "ksFMv9uc-Jo5",
        "outputId": "a5ea22cd-0bbf-43ee-a484-ddaf4a0aee28"
      },
      "outputs": [
        {
          "output_type": "stream",
          "name": "stdout",
          "text": [
            "1^1 = 1\n",
            "2^2 = 4\n",
            "3^3 = 27\n",
            "4^4 = 256\n"
          ]
        }
      ],
      "source": [
        "MAX_N = 5\n",
        "n = 1\n",
        "while(n<MAX_N):\n",
        "    print('%d^%d = %d' %(n, n, n**n))\n",
        "    n+=1"
      ]
    },
    {
      "cell_type": "markdown",
      "metadata": {
        "id": "XzuUjBQN-Jo6"
      },
      "source": [
        "- 跑一半需要跳出來: break"
      ]
    },
    {
      "cell_type": "code",
      "execution_count": 43,
      "metadata": {
        "colab": {
          "base_uri": "https://localhost:8080/"
        },
        "id": "auONkhA_-Jo6",
        "outputId": "3e9fcb52-7203-4a58-e979-96cf902575d7"
      },
      "outputs": [
        {
          "output_type": "stream",
          "name": "stdout",
          "text": [
            "1 * 1 = 1\n",
            "2 * 2 = 4\n",
            "3 * 3 = 9\n",
            "4 * 4 = 16\n",
            "5 * 5 = 25\n"
          ]
        }
      ],
      "source": [
        "for i in range(1, 10):\n",
        "    if i>=6:\n",
        "        break\n",
        "    print(i, '*', i, '=', i*i)\n"
      ]
    },
    {
      "cell_type": "markdown",
      "metadata": {
        "id": "_PDW1FRY-Jo6"
      },
      "source": [
        "- 某些項目不處理，但還需要處理後續: continue"
      ]
    },
    {
      "cell_type": "code",
      "execution_count": 44,
      "metadata": {
        "colab": {
          "base_uri": "https://localhost:8080/"
        },
        "id": "EqLyEDHX-Jo6",
        "outputId": "e2320866-f039-4ef9-fcbd-e81cb88b3cdd"
      },
      "outputs": [
        {
          "output_type": "stream",
          "name": "stdout",
          "text": [
            "1 * 1 = 1\n",
            "2 * 2 = 4\n",
            "3 * 3 = 9\n",
            "4 * 4 = 16\n",
            "5 * 5 = 25\n",
            "7 * 7 = 49\n",
            "8 * 8 = 64\n",
            "9 * 9 = 81\n"
          ]
        }
      ],
      "source": [
        "for i in range(1, 10):\n",
        "    if i==6:\n",
        "        continue\n",
        "    print(i, '*', i, '=', i*i)\n"
      ]
    },
    {
      "cell_type": "markdown",
      "metadata": {
        "id": "O-Hzei4w-Jo6"
      },
      "source": [
        "### List"
      ]
    },
    {
      "cell_type": "code",
      "execution_count": 45,
      "metadata": {
        "id": "EW6ldVnc-Jo6"
      },
      "outputs": [],
      "source": [
        "my_list = [1, 24, 32, 6, 30, 57]"
      ]
    },
    {
      "cell_type": "code",
      "execution_count": 46,
      "metadata": {
        "colab": {
          "base_uri": "https://localhost:8080/"
        },
        "id": "crb3x1Aw-Jo7",
        "outputId": "c048a016-b5d0-4cd3-f8eb-31b0939b3c2c"
      },
      "outputs": [
        {
          "output_type": "stream",
          "name": "stdout",
          "text": [
            "32\n",
            "57\n"
          ]
        }
      ],
      "source": [
        "# 找出超過30的數字\n",
        "for item in my_list:\n",
        "    if item > 30:\n",
        "        print(item)"
      ]
    },
    {
      "cell_type": "code",
      "execution_count": 47,
      "metadata": {
        "colab": {
          "base_uri": "https://localhost:8080/"
        },
        "id": "oA_TSNy2-Jo7",
        "outputId": "590f8b3d-4a59-45f7-a073-a6932ba46e20"
      },
      "outputs": [
        {
          "output_type": "stream",
          "name": "stdout",
          "text": [
            "2 -> 32\n",
            "5 -> 57\n"
          ]
        }
      ],
      "source": [
        "# 同上，但列出是第幾個\n",
        "for i in range(len(my_list)):\n",
        "    if my_list[i] > 30:\n",
        "        print(i, '->', my_list[i])"
      ]
    },
    {
      "cell_type": "code",
      "source": [
        "enumerate(my_list)"
      ],
      "metadata": {
        "colab": {
          "base_uri": "https://localhost:8080/"
        },
        "id": "qgz7TUAOc53k",
        "outputId": "3119e217-4561-48e4-f255-b3570d71cf4a"
      },
      "execution_count": 49,
      "outputs": [
        {
          "output_type": "execute_result",
          "data": {
            "text/plain": [
              "<enumerate at 0x7fd27b520460>"
            ]
          },
          "metadata": {},
          "execution_count": 49
        }
      ]
    },
    {
      "cell_type": "code",
      "execution_count": 48,
      "metadata": {
        "colab": {
          "base_uri": "https://localhost:8080/"
        },
        "id": "mXM49Qc2-Jo7",
        "outputId": "bd5c6c5b-5026-41d8-b7bf-5ade0096b6b3"
      },
      "outputs": [
        {
          "output_type": "stream",
          "name": "stdout",
          "text": [
            "2 -> 32\n",
            "5 -> 57\n"
          ]
        }
      ],
      "source": [
        "# 另一個寫法\n",
        "for i, item in enumerate(my_list):\n",
        "    if item > 30:\n",
        "        print(i, '->', item)"
      ]
    },
    {
      "cell_type": "markdown",
      "metadata": {
        "id": "QFWpsKH4-Jo7"
      },
      "source": [
        "### Dictionary"
      ]
    },
    {
      "cell_type": "code",
      "execution_count": 50,
      "metadata": {
        "id": "_Q33GyDl-Jo7"
      },
      "outputs": [],
      "source": [
        "my_dict = {'Apple':3, 'Pear':5, 'Orange':2}"
      ]
    },
    {
      "cell_type": "code",
      "execution_count": 51,
      "metadata": {
        "colab": {
          "base_uri": "https://localhost:8080/"
        },
        "id": "7Hns6eM_-Jo8",
        "outputId": "04e15b5f-daf2-47e3-db12-a05867bdb628"
      },
      "outputs": [
        {
          "output_type": "stream",
          "name": "stdout",
          "text": [
            "Apple : 3\n",
            "Pear : 5\n",
            "Orange : 2\n"
          ]
        }
      ],
      "source": [
        "for key in my_dict:\n",
        "    print('%s : %s' %(key, my_dict[key]))"
      ]
    },
    {
      "cell_type": "code",
      "execution_count": 66,
      "metadata": {
        "id": "aEIVch26-Jo8"
      },
      "outputs": [],
      "source": [
        "my_dict['Strawberry'] = 120\n",
        "my_dict['Apple'] += 20"
      ]
    },
    {
      "cell_type": "code",
      "execution_count": 67,
      "metadata": {
        "colab": {
          "base_uri": "https://localhost:8080/"
        },
        "id": "gERZL9as-Jo8",
        "outputId": "e2619e94-5163-4a48-eb24-27a94492c614"
      },
      "outputs": [
        {
          "output_type": "execute_result",
          "data": {
            "text/plain": [
              "{'Apple': 21.0, 'Pear': 5, 'Orange': 2, 'Strawberry': 120}"
            ]
          },
          "metadata": {},
          "execution_count": 67
        }
      ],
      "source": [
        "my_dict"
      ]
    },
    {
      "cell_type": "code",
      "source": [],
      "metadata": {
        "id": "GoR9DSLyc4HS"
      },
      "execution_count": 53,
      "outputs": []
    },
    {
      "cell_type": "markdown",
      "metadata": {
        "id": "IYCogdYn-Jo8"
      },
      "source": [
        "### 終極密碼"
      ]
    },
    {
      "cell_type": "markdown",
      "metadata": {
        "id": "mjQDZhuv-Jo9"
      },
      "source": [
        "- 提示: \n",
        "    - 會使用到的API: randint, input\n",
        "    - input輸入的資料須要轉換"
      ]
    },
    {
      "cell_type": "code",
      "execution_count": 68,
      "metadata": {
        "colab": {
          "base_uri": "https://localhost:8080/"
        },
        "id": "02VbxEur-Jo9",
        "outputId": "42132b06-d8ac-49ef-cac2-41b2f744ae67"
      },
      "outputs": [
        {
          "output_type": "stream",
          "name": "stdout",
          "text": [
            "2\n"
          ]
        }
      ],
      "source": [
        "import random\n",
        "\n",
        "number = random.randint(1, 5)\n",
        "print(number)"
      ]
    },
    {
      "cell_type": "code",
      "execution_count": 69,
      "metadata": {
        "colab": {
          "base_uri": "https://localhost:8080/"
        },
        "id": "zuZIcMp3-Jo9",
        "outputId": "2ddb9c11-e7c9-4f64-efdf-3bfe375f6d37"
      },
      "outputs": [
        {
          "output_type": "stream",
          "name": "stdout",
          "text": [
            "請輸入 1~100的數字5\n",
            "<class 'str'>\n",
            "<class 'int'> -> 5\n"
          ]
        }
      ],
      "source": [
        "my_num = input('請輸入 1~100的數字')\n",
        "print( type(my_num) )\n",
        "my_num = int(my_num)\n",
        "print( type(my_num), '->', my_num)"
      ]
    },
    {
      "cell_type": "code",
      "source": [
        "if number == my_num:\n",
        "  print(\"Great\")\n",
        "else:\n",
        "  print(\"again\") "
      ],
      "metadata": {
        "colab": {
          "base_uri": "https://localhost:8080/"
        },
        "id": "bKB1Jou5f3HU",
        "outputId": "5cf3f5dd-c9d6-4f0a-bb8f-32e6ddfc8139"
      },
      "execution_count": 70,
      "outputs": [
        {
          "output_type": "stream",
          "name": "stdout",
          "text": [
            "again\n"
          ]
        }
      ]
    },
    {
      "cell_type": "code",
      "source": [
        "if number > my_num:\n",
        "  print(\"larger\")\n",
        "else:\n",
        "  print(\"smaller\")"
      ],
      "metadata": {
        "id": "wAMdvVFqgv41"
      },
      "execution_count": null,
      "outputs": []
    },
    {
      "cell_type": "markdown",
      "metadata": {
        "id": "luJ64_NK-Jo9"
      },
      "source": [
        "- 第一版: 使用者輸入一個數字密碼，程式要在沒猜中時，能提示使用者要猜大一點或是小一點"
      ]
    },
    {
      "cell_type": "code",
      "execution_count": 82,
      "metadata": {
        "colab": {
          "base_uri": "https://localhost:8080/"
        },
        "id": "JhfnF5yu-Jo9",
        "outputId": "14155044-c276-49d0-ec40-b40bd86e0480"
      },
      "outputs": [
        {
          "output_type": "stream",
          "name": "stdout",
          "text": [
            "52\n",
            "請輸入 1~100的整數80\n",
            "80\n",
            "Smaller\n",
            "請輸入 1~100的整數50\n",
            "50\n",
            "Larger\n",
            "請輸入 1~100的整數60\n",
            "60\n",
            "Smaller\n",
            "請輸入 1~100的整數55\n",
            "55\n",
            "Smaller\n",
            "請輸入 1~100的整數54\n",
            "54\n",
            "Smaller\n",
            "請輸入 1~100的整數53\n",
            "53\n",
            "Smaller\n",
            "請輸入 1~100的整數52\n",
            "52\n",
            "Great\n"
          ]
        }
      ],
      "source": [
        "# 請在這邊完成你的程式\n",
        "import random\n",
        "\n",
        "num1 = random.randint(1, 100)\n",
        "print(num1)\n",
        "while(True):\n",
        "  my_num1 = int(input('請輸入 1~100的整數'))\n",
        "  print(my_num1)\n",
        "\n",
        "  if num1 > my_num1:\n",
        "    print(\"Larger\")\n",
        "  elif num1 < my_num1:\n",
        "    print(\"Smaller\")\n",
        "  else:\n",
        "    print(\"Great\")\n",
        "    break"
      ]
    },
    {
      "cell_type": "markdown",
      "metadata": {
        "id": "HMPIiHwE-Jo-"
      },
      "source": [
        "- 第二版: 變數的練習，在前面的基礎下，把每一次猜的值記下來，更新到程式中的上、下限值，並在下一次提示目前可以猜的範圍"
      ]
    },
    {
      "cell_type": "code",
      "execution_count": 89,
      "metadata": {
        "colab": {
          "base_uri": "https://localhost:8080/"
        },
        "id": "QCVoIXHg-Jo-",
        "outputId": "2c6b3a67-fa62-451f-ae6d-31c64aa14e07"
      },
      "outputs": [
        {
          "output_type": "stream",
          "name": "stdout",
          "text": [
            "61\n",
            "請輸入 1~100的整數40\n",
            "40\n",
            "Larger\n",
            "請輸入 40~100的整數990\n",
            "990\n",
            "Smaller\n",
            "請輸入 40~990的整數90\n",
            "90\n",
            "Smaller\n",
            "請輸入 40~90的整數50\n",
            "50\n",
            "Larger\n",
            "請輸入 50~90的整數60\n",
            "60\n",
            "Larger\n",
            "請輸入 60~90的整數61\n",
            "61\n",
            "Smaller\n"
          ]
        }
      ],
      "source": [
        "# 請在這邊完成你的程式\n",
        "import random\n",
        "\n",
        "num1 = random.randint(1, 100)\n",
        "print(num1)\n",
        "\n",
        "lowerlimit = 1\n",
        "uplimit = 100\n",
        "\n",
        "while(True):\n",
        "  my_num1 = int(input('請輸入 %d~%d的整數'%(lowerlimit,uplimit)))\n",
        "  print(my_num1)\n",
        "\n",
        "  if num1 < my_num1:\n",
        "    uplimit = my_num1\n",
        "    print(\"Smaller\")\n",
        "  elif num1 > my_num1:\n",
        "    lowerlimit = my_num1\n",
        "    print(\"Larger\")\n",
        "  else:    \n",
        "    print(\"Great\")\n",
        "    \n",
        "    break \n"
      ]
    },
    {
      "cell_type": "code",
      "execution_count": null,
      "metadata": {
        "id": "iX-__KIT-Jo_"
      },
      "outputs": [],
      "source": []
    }
  ],
  "metadata": {
    "kernelspec": {
      "display_name": "Python 3 (ipykernel)",
      "language": "python",
      "name": "python3"
    },
    "language_info": {
      "codemirror_mode": {
        "name": "ipython",
        "version": 3
      },
      "file_extension": ".py",
      "mimetype": "text/x-python",
      "name": "python",
      "nbconvert_exporter": "python",
      "pygments_lexer": "ipython3",
      "version": "3.9.7"
    },
    "colab": {
      "provenance": [],
      "include_colab_link": true
    }
  },
  "nbformat": 4,
  "nbformat_minor": 0
}